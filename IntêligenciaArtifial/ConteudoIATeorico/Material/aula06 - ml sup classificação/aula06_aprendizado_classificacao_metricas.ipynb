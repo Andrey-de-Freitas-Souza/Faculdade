{
 "cells": [
  {
   "attachments": {
    "logo_usjt.png": {
     "image/png": "[encoded data removed]"
    }
   },
   "cell_type": "markdown",
   "metadata": {},
   "source": [
    "![logo_usjt.png](attachment:logo_usjt.png)"
   ]
  },
  {
   "cell_type": "markdown",
   "metadata": {},
   "source": [
    "# Inteligência Artifical\n",
    "- **Professor:** Sergio Bonato <antonio.bonato@saojudas.br>"
   ]
  },
  {
   "cell_type": "markdown",
   "metadata": {},
   "source": [
    "## Aprendizado Supervisionado - Métricas de Classificação"
   ]
  },
  {
   "cell_type": "code",
   "execution_count": 1,
   "metadata": {},
   "outputs": [],
   "source": [
    "import pandas as pd\n",
    "import numpy as np\n",
    "import matplotlib.pyplot as plt\n",
    "from sklearn.metrics import classification_report, confusion_matrix, f1_score\n",
    "from sklearn.metrics import balanced_accuracy_score, multilabel_confusion_matrix\n",
    "from sklearn.metrics import accuracy_score, precision_score, recall_score, roc_curve"
   ]
  },
  {
   "cell_type": "markdown",
   "metadata": {},
   "source": [
    "## Métricas Binárias"
   ]
  },
  {
   "cell_type": "code",
   "execution_count": 2,
   "metadata": {},
   "outputs": [],
   "source": [
    "y_r = list('A'*150)+list('B'*350)\n",
    "y_p = list('A'*120)+list('B'*30)+list('A'*40)+list('B'*310)"
   ]
  },
  {
   "cell_type": "code",
   "execution_count": 3,
   "metadata": {},
   "outputs": [
    {
     "data": {
      "text/plain": [
       "500"
      ]
     },
     "execution_count": 3,
     "metadata": {},
     "output_type": "execute_result"
    }
   ],
   "source": [
    "len(y_p)"
   ]
  },
  {
   "cell_type": "code",
   "execution_count": null,
   "metadata": {},
   "outputs": [],
   "source": []
  },
  {
   "cell_type": "code",
   "execution_count": 4,
   "metadata": {},
   "outputs": [],
   "source": [
    "y = np.array(y_r)\n",
    "y_pred = np.array(y_p)"
   ]
  },
  {
   "cell_type": "markdown",
   "metadata": {},
   "source": [
    "### Matriz de Confusão Binária"
   ]
  },
  {
   "cell_type": "code",
   "execution_count": 7,
   "metadata": {
    "scrolled": true
   },
   "outputs": [
    {
     "data": {
      "text/html": [
       "<div>\n",
       "<style scoped>\n",
       "    .dataframe tbody tr th:only-of-type {\n",
       "        vertical-align: middle;\n",
       "    }\n",
       "\n",
       "    .dataframe tbody tr th {\n",
       "        vertical-align: top;\n",
       "    }\n",
       "\n",
       "    .dataframe thead th {\n",
       "        text-align: right;\n",
       "    }\n",
       "</style>\n",
       "<table border=\"1\" class=\"dataframe\">\n",
       "  <thead>\n",
       "    <tr style=\"text-align: right;\">\n",
       "      <th></th>\n",
       "      <th>A</th>\n",
       "      <th>B</th>\n",
       "    </tr>\n",
       "  </thead>\n",
       "  <tbody>\n",
       "    <tr>\n",
       "      <th>A</th>\n",
       "      <td>120</td>\n",
       "      <td>30</td>\n",
       "    </tr>\n",
       "    <tr>\n",
       "      <th>B</th>\n",
       "      <td>40</td>\n",
       "      <td>310</td>\n",
       "    </tr>\n",
       "  </tbody>\n",
       "</table>\n",
       "</div>"
      ],
      "text/plain": [
       "     A    B\n",
       "A  120   30\n",
       "B   40  310"
      ]
     },
     "execution_count": 7,
     "metadata": {},
     "output_type": "execute_result"
    }
   ],
   "source": [
    "labels = ['A','B']\n",
    "pd.DataFrame(confusion_matrix(y,y_pred),index=labels,columns=labels)"
   ]
  },
  {
   "cell_type": "code",
   "execution_count": 8,
   "metadata": {},
   "outputs": [
    {
     "data": {
      "text/plain": [
       "array([[120,  30],\n",
       "       [ 40, 310]])"
      ]
     },
     "execution_count": 8,
     "metadata": {},
     "output_type": "execute_result"
    }
   ],
   "source": [
    "confusion_matrix(y,y_pred)"
   ]
  },
  {
   "cell_type": "markdown",
   "metadata": {},
   "source": [
    "### Classification Report Binário\n",
    "\n",
    "O classification report é o principal resumo de métricas de métricas de um modelo de classificação no Scikit-Learn. \n",
    "Nas primeiras 3 linhas temos a precisão, a revocação e o f1 de cada uma das classes conforme calculamos nos slides anteriores. A coluna support é o número de amostras de cada classe.\n",
    "Nas 3 últimas linhas temos as médias do modelo:\n",
    "- **accuracy:** é calculada levando em conta somente os verdadeiros positivos e o total de amostras. Neste exemplo temos `(120 + 310) / 500 = 0.8600`. É o mesmo que o f1-score. Veja mais sobre isso no próximo slide.\n",
    "- **macro avg:** é a média simples das métricas de cada classe. A macro avg de precision é `(0.7500 + 0.9118) / 2 = 0.8309`\n",
    "- **weighted avg:** é a média ponderada pelo número de amostras (support) das métricas de cada classe. Novamente, no caso de precison, a weighted avg é `(150 x 0.7500 + 350 x 0.9118) / 500 = 0.8632`"
   ]
  },
  {
   "cell_type": "code",
   "execution_count": 9,
   "metadata": {},
   "outputs": [
    {
     "name": "stdout",
     "output_type": "stream",
     "text": [
      "              precision    recall  f1-score   support\n",
      "\n",
      "           A     0.7500    0.8000    0.7742       150\n",
      "           B     0.9118    0.8857    0.8986       350\n",
      "\n",
      "    accuracy                         0.8600       500\n",
      "   macro avg     0.8309    0.8429    0.8364       500\n",
      "weighted avg     0.8632    0.8600    0.8612       500\n",
      "\n"
     ]
    }
   ],
   "source": [
    "print(classification_report(y, y_pred, target_names=labels, digits=4))"
   ]
  },
  {
   "cell_type": "markdown",
   "metadata": {},
   "source": [
    "### Acurácia Balanceada Binária\n",
    "É o mesmo que o macro avg recall"
   ]
  },
  {
   "cell_type": "code",
   "execution_count": 10,
   "metadata": {},
   "outputs": [
    {
     "name": "stdout",
     "output_type": "stream",
     "text": [
      "balanced accuracy: 0.8429\n"
     ]
    }
   ],
   "source": [
    "bal_acc = balanced_accuracy_score(y, y_pred)\n",
    "print('balanced accuracy: %.4f' % round(bal_acc,4))"
   ]
  },
  {
   "cell_type": "code",
   "execution_count": 13,
   "metadata": {},
   "outputs": [
    {
     "name": "stdout",
     "output_type": "stream",
     "text": [
      "recall: 0.8429\n"
     ]
    }
   ],
   "source": [
    "rec = recall_score(y, y_pred, average='macro')\n",
    "print('recall: %.4f' % round(rec,4))"
   ]
  },
  {
   "cell_type": "markdown",
   "metadata": {},
   "source": [
    "#### As micro average tem o mesmo resultado em todas as métricas. Então o classification report considera somente a accuracy."
   ]
  },
  {
   "cell_type": "code",
   "execution_count": 14,
   "metadata": {},
   "outputs": [
    {
     "name": "stdout",
     "output_type": "stream",
     "text": [
      "accuracy: 0.8600\n"
     ]
    }
   ],
   "source": [
    "acc = accuracy_score(y, y_pred)\n",
    "print('accuracy: %.4f' % round(acc,4))"
   ]
  },
  {
   "cell_type": "code",
   "execution_count": 15,
   "metadata": {},
   "outputs": [
    {
     "name": "stdout",
     "output_type": "stream",
     "text": [
      "precision: 0.8600\n"
     ]
    }
   ],
   "source": [
    "prec = precision_score(y, y_pred, average='micro')\n",
    "print('precision: %.4f' % round(prec,4))"
   ]
  },
  {
   "cell_type": "code",
   "execution_count": 16,
   "metadata": {},
   "outputs": [
    {
     "name": "stdout",
     "output_type": "stream",
     "text": [
      "recall: 0.8600\n"
     ]
    }
   ],
   "source": [
    "rec = recall_score(y, y_pred, average='micro')\n",
    "print('recall: %.4f' % round(rec,4))"
   ]
  },
  {
   "cell_type": "code",
   "execution_count": 17,
   "metadata": {},
   "outputs": [
    {
     "name": "stdout",
     "output_type": "stream",
     "text": [
      "f1: 0.8600\n"
     ]
    }
   ],
   "source": [
    "f1 = f1_score(y, y_pred, average='micro')\n",
    "print('f1: %.4f' % round(f1,4))"
   ]
  },
  {
   "cell_type": "code",
   "execution_count": 18,
   "metadata": {},
   "outputs": [],
   "source": [
    "y_true = np.array(list(map(lambda x: 1 if x=='A' else 0, y)))\n",
    "y_score = np.array(list(map(lambda x: 1 if x=='A' else 0, y_pred)))\n",
    "tfp, tvp, limiar = roc_curve(y_true,y_score)"
   ]
  },
  {
   "cell_type": "code",
   "execution_count": 19,
   "metadata": {},
   "outputs": [],
   "source": [
    "def plot_roc_curve(tfp, tvp, label=None):\n",
    "    plt.plot(tfp, tvp, linewidth=2, label=label)\n",
    "    plt.plot([0,1],[0,1],'k--')\n",
    "    plt.axis([0,1,0,1])\n",
    "    plt.xlabel('Taxa Falsos Positivos')\n",
    "    plt.ylabel('Taxa Verdadeiros Positivos')"
   ]
  },
  {
   "cell_type": "code",
   "execution_count": 20,
   "metadata": {},
   "outputs": [
    {
     "data": {
      "image/png": "[encoded data removed]",
      "text/plain": [
       "<Figure size 432x288 with 1 Axes>"
      ]
     },
     "metadata": {
      "needs_background": "light"
     },
     "output_type": "display_data"
    }
   ],
   "source": [
    "plot_roc_curve(tfp,tvp)\n",
    "plt.show()"
   ]
  },
  {
   "cell_type": "markdown",
   "metadata": {},
   "source": [
    "## Métricas Multiclasse"
   ]
  },
  {
   "cell_type": "code",
   "execution_count": 22,
   "metadata": {},
   "outputs": [],
   "source": [
    "y_r = ['A','A','A','A','A','A','A','A','A','A','B','B','B','B','B','B','B','B','B',\n",
    "       'C','C','C','C','C','C','C','C','C','C','C','C']\n",
    "y_p = ['A','A','A','A','A','A','B','B','B','B','A','A','A','B','B','B','B','C','C',\n",
    "       'B','C','C','C','C','C','C','C','C','C','C','C']"
   ]
  },
  {
   "cell_type": "code",
   "execution_count": 23,
   "metadata": {},
   "outputs": [],
   "source": [
    "y = np.array(y_r)\n",
    "y_pred = np.array(y_p)"
   ]
  },
  {
   "cell_type": "markdown",
   "metadata": {},
   "source": [
    "### Matriz de Confusão Multiclasse"
   ]
  },
  {
   "cell_type": "code",
   "execution_count": 24,
   "metadata": {
    "scrolled": true
   },
   "outputs": [
    {
     "data": {
      "text/html": [
       "<div>\n",
       "<style scoped>\n",
       "    .dataframe tbody tr th:only-of-type {\n",
       "        vertical-align: middle;\n",
       "    }\n",
       "\n",
       "    .dataframe tbody tr th {\n",
       "        vertical-align: top;\n",
       "    }\n",
       "\n",
       "    .dataframe thead th {\n",
       "        text-align: right;\n",
       "    }\n",
       "</style>\n",
       "<table border=\"1\" class=\"dataframe\">\n",
       "  <thead>\n",
       "    <tr style=\"text-align: right;\">\n",
       "      <th></th>\n",
       "      <th>A</th>\n",
       "      <th>B</th>\n",
       "      <th>C</th>\n",
       "    </tr>\n",
       "  </thead>\n",
       "  <tbody>\n",
       "    <tr>\n",
       "      <th>A</th>\n",
       "      <td>6</td>\n",
       "      <td>4</td>\n",
       "      <td>0</td>\n",
       "    </tr>\n",
       "    <tr>\n",
       "      <th>B</th>\n",
       "      <td>3</td>\n",
       "      <td>4</td>\n",
       "      <td>2</td>\n",
       "    </tr>\n",
       "    <tr>\n",
       "      <th>C</th>\n",
       "      <td>0</td>\n",
       "      <td>1</td>\n",
       "      <td>11</td>\n",
       "    </tr>\n",
       "  </tbody>\n",
       "</table>\n",
       "</div>"
      ],
      "text/plain": [
       "   A  B   C\n",
       "A  6  4   0\n",
       "B  3  4   2\n",
       "C  0  1  11"
      ]
     },
     "execution_count": 24,
     "metadata": {},
     "output_type": "execute_result"
    }
   ],
   "source": [
    "labels = ['A','B','C']\n",
    "pd.DataFrame(confusion_matrix(y,y_pred),index=labels,columns=labels)"
   ]
  },
  {
   "cell_type": "markdown",
   "metadata": {},
   "source": [
    "Na matriz de confusão multiclasse MCM do Scikit-Learn, a contagem dos verdadeiros negativos **VN** está em `MCM [0,0]`, dos falso negativos **FN** está em `MCM[1,0]`, verdadeiros positivos **VP** em `MCM[1,1]` e os falso positivos **FP** em `MCM[0,1]`."
   ]
  },
  {
   "cell_type": "code",
   "execution_count": 25,
   "metadata": {},
   "outputs": [
    {
     "data": {
      "text/plain": [
       "array([[[18,  3],\n",
       "        [ 4,  6]],\n",
       "\n",
       "       [[17,  5],\n",
       "        [ 5,  4]],\n",
       "\n",
       "       [[17,  2],\n",
       "        [ 1, 11]]])"
      ]
     },
     "execution_count": 25,
     "metadata": {},
     "output_type": "execute_result"
    }
   ],
   "source": [
    "multilabel_confusion_matrix(y,y_pred,labels=labels)"
   ]
  },
  {
   "cell_type": "markdown",
   "metadata": {},
   "source": [
    "### Classification Report Multiclasse\n",
    "\n",
    "O classification report é o principal resumo de métricas de métricas de um modelo de classificação no Scikit-Learn. \n",
    "Nas primeiras 3 linhas temos a precisão, a revocação e o f1 de cada uma das classes conforme calculamos nos slides anteriores. A coluna support é o número de amostras de cada classe.\n",
    "Nas 3 últimas linhas temos as médias do modelo:\n",
    "- **accuracy:** é calculada levando em conta somente os verdadeiros positivos e o total de amostras. Neste exemplo temos `(6 + 4 + 11) / 31 = 0.6674`. É o mesmo que o f1-score. Veja mais sobre isso no próximo slide.\n",
    "- **macro avg:** é a média simples das métricas de cada classe. A macro avg de precision é `(0.6667 + 0.4444 + 0.8462) / 3 = 0.6524`\n",
    "- **weighted avg:** é a média ponderada pelo número de amostras (support) das métricas de cada classe. Novamente, no caso de precison, a weighted avg é `(10 x 0.6667 + 9 x 0.4444 + 12 x 0.8462) / 31 = 0.6716`"
   ]
  },
  {
   "cell_type": "code",
   "execution_count": 26,
   "metadata": {},
   "outputs": [
    {
     "name": "stdout",
     "output_type": "stream",
     "text": [
      "              precision    recall  f1-score   support\n",
      "\n",
      "           A     0.6667    0.6000    0.6316        10\n",
      "           B     0.4444    0.4444    0.4444         9\n",
      "           C     0.8462    0.9167    0.8800        12\n",
      "\n",
      "    accuracy                         0.6774        31\n",
      "   macro avg     0.6524    0.6537    0.6520        31\n",
      "weighted avg     0.6716    0.6774    0.6734        31\n",
      "\n"
     ]
    }
   ],
   "source": [
    "print(classification_report(y, y_pred, target_names=labels, digits=4))"
   ]
  },
  {
   "cell_type": "markdown",
   "metadata": {},
   "source": [
    "### Acurácia Balanceda Multiclasse\n",
    "É o mesmo que o macro avg recall"
   ]
  },
  {
   "cell_type": "code",
   "execution_count": 29,
   "metadata": {},
   "outputs": [
    {
     "name": "stdout",
     "output_type": "stream",
     "text": [
      "balanced accuracy: 0.6537\n"
     ]
    }
   ],
   "source": [
    "bal_acc = balanced_accuracy_score(y, y_pred)\n",
    "print('balanced accuracy: %.4f' % round(bal_acc,4))"
   ]
  },
  {
   "cell_type": "code",
   "execution_count": 30,
   "metadata": {},
   "outputs": [
    {
     "name": "stdout",
     "output_type": "stream",
     "text": [
      "recall: 0.6537\n"
     ]
    }
   ],
   "source": [
    "rec = recall_score(y, y_pred, average='macro')\n",
    "print('recall: %.4f' % round(rec,4))"
   ]
  },
  {
   "cell_type": "markdown",
   "metadata": {},
   "source": [
    "#### As micro average tem o mesmo resultado em todas as métricas. Então o classification report considera somente a accuracy."
   ]
  },
  {
   "cell_type": "code",
   "execution_count": 31,
   "metadata": {},
   "outputs": [
    {
     "name": "stdout",
     "output_type": "stream",
     "text": [
      "accuracy: 0.6774\n"
     ]
    }
   ],
   "source": [
    "acc = accuracy_score(y, y_pred)\n",
    "print('accuracy: %.4f' % round(acc,4))"
   ]
  },
  {
   "cell_type": "code",
   "execution_count": 32,
   "metadata": {},
   "outputs": [
    {
     "name": "stdout",
     "output_type": "stream",
     "text": [
      "precision: 0.6774\n"
     ]
    }
   ],
   "source": [
    "prec = precision_score(y, y_pred, average='micro')\n",
    "print('precision: %.4f' % round(prec,4))"
   ]
  },
  {
   "cell_type": "code",
   "execution_count": 33,
   "metadata": {},
   "outputs": [
    {
     "name": "stdout",
     "output_type": "stream",
     "text": [
      "recall: 0.6774\n"
     ]
    }
   ],
   "source": [
    "rec = recall_score(y, y_pred, average='micro')\n",
    "print('recall: %.4f' % round(rec,4))"
   ]
  },
  {
   "cell_type": "code",
   "execution_count": 34,
   "metadata": {},
   "outputs": [
    {
     "name": "stdout",
     "output_type": "stream",
     "text": [
      "f1: 0.6774\n"
     ]
    }
   ],
   "source": [
    "f1 = f1_score(y, y_pred, average='micro')\n",
    "print('f1: %.4f' % round(f1,4))"
   ]
  },
  {
   "cell_type": "code",
   "execution_count": null,
   "metadata": {},
   "outputs": [],
   "source": []
  },
  {
   "cell_type": "code",
   "execution_count": null,
   "metadata": {},
   "outputs": [],
   "source": []
  },
  {
   "cell_type": "code",
   "execution_count": null,
   "metadata": {},
   "outputs": [],
   "source": []
  }
 ],
 "metadata": {
  "kernelspec": {
   "display_name": "Python 3",
   "language": "python",
   "name": "python3"
  },
  "language_info": {
   "codemirror_mode": {
    "name": "ipython",
    "version": 3
   },
   "file_extension": ".py",
   "mimetype": "text/x-python",
   "name": "python",
   "nbconvert_exporter": "python",
   "pygments_lexer": "ipython3",
   "version": "3.6.4"
  }
 },
 "nbformat": 4,
 "nbformat_minor": 2
}
